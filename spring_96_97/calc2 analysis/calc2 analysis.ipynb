{
 "cells": [
  {
   "cell_type": "code",
   "execution_count": 1,
   "metadata": {},
   "outputs": [],
   "source": [
    "import numpy as np\n",
    "import pandas as pd\n",
    "from scipy import stats\n",
    "from highcharts import Highchart"
   ]
  },
  {
   "cell_type": "code",
   "execution_count": 2,
   "metadata": {},
   "outputs": [
    {
     "name": "stdout",
     "output_type": "stream",
     "text": [
      "<class 'pandas.core.frame.DataFrame'>\n",
      "RangeIndex: 948 entries, 0 to 947\n",
      "Data columns (total 6 columns):\n",
      "student id    948 non-null object\n",
      "A             948 non-null object\n",
      "B             948 non-null object\n",
      "C             948 non-null object\n",
      "D             948 non-null object\n",
      "sum           948 non-null object\n",
      "dtypes: object(6)\n",
      "memory usage: 44.5+ KB\n"
     ]
    },
    {
     "data": {
      "text/html": [
       "<div>\n",
       "<style scoped>\n",
       "    .dataframe tbody tr th:only-of-type {\n",
       "        vertical-align: middle;\n",
       "    }\n",
       "\n",
       "    .dataframe tbody tr th {\n",
       "        vertical-align: top;\n",
       "    }\n",
       "\n",
       "    .dataframe thead th {\n",
       "        text-align: right;\n",
       "    }\n",
       "</style>\n",
       "<table border=\"1\" class=\"dataframe\">\n",
       "  <thead>\n",
       "    <tr style=\"text-align: right;\">\n",
       "      <th></th>\n",
       "      <th>student id</th>\n",
       "      <th>A</th>\n",
       "      <th>B</th>\n",
       "      <th>C</th>\n",
       "      <th>D</th>\n",
       "      <th>sum</th>\n",
       "    </tr>\n",
       "  </thead>\n",
       "  <tbody>\n",
       "    <tr>\n",
       "      <th>0</th>\n",
       "      <td>92105468</td>\n",
       "      <td>10</td>\n",
       "      <td>10.5</td>\n",
       "      <td>12.5</td>\n",
       "      <td>4.5</td>\n",
       "      <td>37.5</td>\n",
       "    </tr>\n",
       "    <tr>\n",
       "      <th>1</th>\n",
       "      <td>93104368</td>\n",
       "      <td>غ</td>\n",
       "      <td>غ</td>\n",
       "      <td>غ</td>\n",
       "      <td>غ</td>\n",
       "      <td>غ</td>\n",
       "    </tr>\n",
       "    <tr>\n",
       "      <th>2</th>\n",
       "      <td>94102003</td>\n",
       "      <td>2</td>\n",
       "      <td>0.5</td>\n",
       "      <td>0.5</td>\n",
       "      <td>0</td>\n",
       "      <td>3</td>\n",
       "    </tr>\n",
       "    <tr>\n",
       "      <th>3</th>\n",
       "      <td>94103868</td>\n",
       "      <td>غ</td>\n",
       "      <td>غ</td>\n",
       "      <td>غ</td>\n",
       "      <td>غ</td>\n",
       "      <td>غ</td>\n",
       "    </tr>\n",
       "    <tr>\n",
       "      <th>4</th>\n",
       "      <td>94104072</td>\n",
       "      <td>0.5</td>\n",
       "      <td>2</td>\n",
       "      <td>9</td>\n",
       "      <td>0.5</td>\n",
       "      <td>12</td>\n",
       "    </tr>\n",
       "  </tbody>\n",
       "</table>\n",
       "</div>"
      ],
      "text/plain": [
       "  student id    A     B     C    D   sum\n",
       "0   92105468   10  10.5  12.5  4.5  37.5\n",
       "1   93104368    غ     غ     غ    غ     غ\n",
       "2   94102003    2   0.5   0.5    0     3\n",
       "3   94103868    غ     غ     غ    غ     غ\n",
       "4   94104072  0.5     2     9  0.5    12"
      ]
     },
     "execution_count": 2,
     "metadata": {},
     "output_type": "execute_result"
    }
   ],
   "source": [
    "marks = pd.read_csv('../calc2_marks_all.csv')\n",
    "marks.info()\n",
    "marks.head()"
   ]
  },
  {
   "cell_type": "code",
   "execution_count": 3,
   "metadata": {},
   "outputs": [],
   "source": [
    "marks.A = marks.A.str.replace('غ', '-1').astype('float64')\n",
    "marks.B = marks.B.str.replace('غ', '-1').astype('float64')\n",
    "marks.C = marks.C.str.replace('غ', '-1').astype('float64')\n",
    "marks.D = marks.D.str.replace('غ', '-1').astype('float64')\n",
    "marks['sum'] = marks['sum'].str.replace('غ', 'NaN').astype('float64')"
   ]
  },
  {
   "cell_type": "code",
   "execution_count": 4,
   "metadata": {},
   "outputs": [
    {
     "name": "stdout",
     "output_type": "stream",
     "text": [
      "<class 'pandas.core.frame.DataFrame'>\n",
      "RangeIndex: 948 entries, 0 to 947\n",
      "Data columns (total 6 columns):\n",
      "student id    948 non-null object\n",
      "A             920 non-null float64\n",
      "B             920 non-null float64\n",
      "C             920 non-null float64\n",
      "D             920 non-null float64\n",
      "sum           920 non-null float64\n",
      "dtypes: float64(5), object(1)\n",
      "memory usage: 44.5+ KB\n"
     ]
    },
    {
     "data": {
      "text/html": [
       "<div>\n",
       "<style scoped>\n",
       "    .dataframe tbody tr th:only-of-type {\n",
       "        vertical-align: middle;\n",
       "    }\n",
       "\n",
       "    .dataframe tbody tr th {\n",
       "        vertical-align: top;\n",
       "    }\n",
       "\n",
       "    .dataframe thead th {\n",
       "        text-align: right;\n",
       "    }\n",
       "</style>\n",
       "<table border=\"1\" class=\"dataframe\">\n",
       "  <thead>\n",
       "    <tr style=\"text-align: right;\">\n",
       "      <th></th>\n",
       "      <th>student id</th>\n",
       "      <th>A</th>\n",
       "      <th>B</th>\n",
       "      <th>C</th>\n",
       "      <th>D</th>\n",
       "      <th>sum</th>\n",
       "    </tr>\n",
       "  </thead>\n",
       "  <tbody>\n",
       "    <tr>\n",
       "      <th>0</th>\n",
       "      <td>92105468</td>\n",
       "      <td>10.0</td>\n",
       "      <td>10.5</td>\n",
       "      <td>12.5</td>\n",
       "      <td>4.5</td>\n",
       "      <td>37.5</td>\n",
       "    </tr>\n",
       "    <tr>\n",
       "      <th>1</th>\n",
       "      <td>93104368</td>\n",
       "      <td>NaN</td>\n",
       "      <td>NaN</td>\n",
       "      <td>NaN</td>\n",
       "      <td>NaN</td>\n",
       "      <td>NaN</td>\n",
       "    </tr>\n",
       "    <tr>\n",
       "      <th>2</th>\n",
       "      <td>94102003</td>\n",
       "      <td>2.0</td>\n",
       "      <td>0.5</td>\n",
       "      <td>0.5</td>\n",
       "      <td>0.0</td>\n",
       "      <td>3.0</td>\n",
       "    </tr>\n",
       "    <tr>\n",
       "      <th>3</th>\n",
       "      <td>94103868</td>\n",
       "      <td>NaN</td>\n",
       "      <td>NaN</td>\n",
       "      <td>NaN</td>\n",
       "      <td>NaN</td>\n",
       "      <td>NaN</td>\n",
       "    </tr>\n",
       "    <tr>\n",
       "      <th>4</th>\n",
       "      <td>94104072</td>\n",
       "      <td>0.5</td>\n",
       "      <td>2.0</td>\n",
       "      <td>9.0</td>\n",
       "      <td>0.5</td>\n",
       "      <td>12.0</td>\n",
       "    </tr>\n",
       "  </tbody>\n",
       "</table>\n",
       "</div>"
      ],
      "text/plain": [
       "  student id     A     B     C    D   sum\n",
       "0   92105468  10.0  10.5  12.5  4.5  37.5\n",
       "1   93104368   NaN   NaN   NaN  NaN   NaN\n",
       "2   94102003   2.0   0.5   0.5  0.0   3.0\n",
       "3   94103868   NaN   NaN   NaN  NaN   NaN\n",
       "4   94104072   0.5   2.0   9.0  0.5  12.0"
      ]
     },
     "execution_count": 4,
     "metadata": {},
     "output_type": "execute_result"
    }
   ],
   "source": [
    "marks.replace(-1, np.nan, inplace=True)\n",
    "marks.info()\n",
    "marks.head()"
   ]
  },
  {
   "cell_type": "code",
   "execution_count": 5,
   "metadata": {},
   "outputs": [
    {
     "data": {
      "text/plain": [
       "<matplotlib.axes._subplots.AxesSubplot at 0x7f2d42eb4bd0>"
      ]
     },
     "execution_count": 5,
     "metadata": {},
     "output_type": "execute_result"
    }
   ],
   "source": [
    "marks['sum'].hist()"
   ]
  },
  {
   "cell_type": "code",
   "execution_count": 8,
   "metadata": {},
   "outputs": [
    {
     "name": "stdout",
     "output_type": "stream",
     "text": [
      "(0.0, 24.0)\n"
     ]
    },
    {
     "data": {
      "text/html": [
       "<iframe style=\"border:0;outline:none;overflow:hidden\" srcdoc=\"&lt;!DOCTYPE html&gt; &lt;html lang=&quot;en&quot;&gt; &lt;head&gt; &lt;meta charset=&quot;utf-8&quot; /&gt; &lt;link href=&quot;https://www.highcharts.com/highslide/highslide.css&quot; rel=&quot;stylesheet&quot; /&gt; &lt;script type=&quot;text/javascript&quot; src=&quot;https://ajax.googleapis.com/ajax/libs/jquery/1.9.1/jquery.min.js&quot;&gt;&lt;/script&gt; &lt;script type=&quot;text/javascript&quot; src=&quot;https://code.highcharts.com/highcharts.js&quot;&gt;&lt;/script&gt; &lt;script type=&quot;text/javascript&quot; src=&quot;https://code.highcharts.com/highcharts-more.js&quot;&gt;&lt;/script&gt; &lt;script type=&quot;text/javascript&quot; src=&quot;https://code.highcharts.com/modules/heatmap.js&quot;&gt;&lt;/script&gt; &lt;script type=&quot;text/javascript&quot; src=&quot;https://code.highcharts.com/modules/exporting.js&quot;&gt;&lt;/script&gt; &lt;/head&gt; &lt;body style=&quot;margin:0;padding:0&quot;&gt; &lt;div id=&quot;container&quot; style=&quot;&quot;&gt;Loading....&lt;/div&gt; &lt;script&gt; $(function(){ Highcharts.setOptions({&quot;lang&quot;: {}, &quot;global&quot;: {}}); var option = {&quot;loading&quot;: {}, &quot;subtitle&quot;: {}, &quot;xAxis&quot;: {&quot;title&quot;: {&quot;text&quot;: &quot;mark&quot;}}, &quot;title&quot;: {&quot;text&quot;: &quot;problem D histogram&quot;}, &quot;series&quot;: {}, &quot;labels&quot;: {}, &quot;yAxis&quot;: {&quot;title&quot;: {&quot;text&quot;: &quot;count&quot;}}, &quot;chart&quot;: {&quot;renderTo&quot;: &quot;container&quot;}, &quot;tooltip&quot;: {}, &quot;plotOptions&quot;: {}, &quot;credits&quot;: {&quot;enabled&quot;: false}, &quot;colors&quot;: {}, &quot;pane&quot;: {}, &quot;exporting&quot;: {}, &quot;drilldown&quot;: {}, &quot;navigation&quot;: {}, &quot;legend&quot;: {&quot;enabled&quot;: false}}; var chart = new Highcharts.Chart(option); var data = [{&quot;data&quot;: [[0.0, 127], [1.0, 51], [2.0, 64], [3.0, 50], [4.0, 75], [5.0, 65], [6.0, 61], [7.0, 50], [8.0, 45], [9.0, 40], [10.0, 44], [11.0, 21], [12.0, 27], [13.0, 27], [14.0, 18], [15.0, 16], [16.0, 28], [17.0, 26], [18.0, 12], [19.0, 18], [20.0, 17], [21.0, 12], [22.0, 9], [23.0, 7], [24.0, 10]], &quot;type&quot;: &quot;column&quot;, &quot;name&quot;: &quot;D mark&quot;}]; var dataLen = data.length; for (var ix = 0; ix &lt; dataLen; ix++) { chart.addSeries(data[ix]); } }); &lt;/script&gt; &lt;/body&gt; &lt;/html&gt;\" height=520 width=820></iframe>"
      ],
      "text/plain": [
       "<highcharts.highcharts.highcharts.Highchart at 0x7f2d40c8f4d0>"
      ]
     },
     "execution_count": 8,
     "metadata": {},
     "output_type": "execute_result"
    }
   ],
   "source": [
    "target = marks['D']\n",
    "print(target.min(), target.max())\n",
    "hist = np.histogram(target.values, bins=25, range=(target.min(), target.max()+1))\n",
    "\n",
    "h = Highchart()\n",
    "h.set_dict_options({\n",
    "    'title': {'text': 'problem D histogram'}, \n",
    "    'xAxis': {'title': {'text': 'mark'}}, \n",
    "    'yAxis': {'title': {'text': 'count'}}, \n",
    "    'legend': {'enabled': False}\n",
    "})\n",
    "h.add_data_set(zip(hist[1], hist[0]), 'column', 'D mark')\n",
    "h"
   ]
  },
  {
   "cell_type": "code",
   "execution_count": 91,
   "metadata": {},
   "outputs": [],
   "source": [
    "temp = marks[['A', 'B', 'C', 'D']]\n",
    "std = temp.std()\n",
    "mean = temp.mean()\n",
    "max_ = temp.max()\n",
    "min_ = temp.min()\n",
    "median = temp.quantile()\n",
    "q25 = temp.quantile(q=0.25)\n",
    "q75 = temp.quantile(q=0.75)"
   ]
  },
  {
   "cell_type": "code",
   "execution_count": 92,
   "metadata": {},
   "outputs": [
    {
     "data": {
      "text/html": [
       "<iframe style=\"border:0;outline:none;overflow:hidden\" srcdoc=\"&lt;!DOCTYPE html&gt; &lt;html lang=&quot;en&quot;&gt; &lt;head&gt; &lt;meta charset=&quot;utf-8&quot; /&gt; &lt;link href=&quot;https://www.highcharts.com/highslide/highslide.css&quot; rel=&quot;stylesheet&quot; /&gt; &lt;script type=&quot;text/javascript&quot; src=&quot;https://ajax.googleapis.com/ajax/libs/jquery/1.9.1/jquery.min.js&quot;&gt;&lt;/script&gt; &lt;script type=&quot;text/javascript&quot; src=&quot;https://code.highcharts.com/highcharts.js&quot;&gt;&lt;/script&gt; &lt;script type=&quot;text/javascript&quot; src=&quot;https://code.highcharts.com/highcharts-more.js&quot;&gt;&lt;/script&gt; &lt;script type=&quot;text/javascript&quot; src=&quot;https://code.highcharts.com/modules/heatmap.js&quot;&gt;&lt;/script&gt; &lt;script type=&quot;text/javascript&quot; src=&quot;https://code.highcharts.com/modules/exporting.js&quot;&gt;&lt;/script&gt; &lt;/head&gt; &lt;body style=&quot;margin:0;padding:0&quot;&gt; &lt;div id=&quot;container&quot; style=&quot;&quot;&gt;Loading....&lt;/div&gt; &lt;script&gt; $(function(){ Highcharts.setOptions({&quot;lang&quot;: {}, &quot;global&quot;: {}}); var option = {&quot;loading&quot;: {}, &quot;subtitle&quot;: {}, &quot;xAxis&quot;: {&quot;categories&quot;: [&quot;A&quot;, &quot;B&quot;, &quot;C&quot;, &quot;D&quot;]}, &quot;title&quot;: {&quot;text&quot;: &quot;problems MEAN - STD - QUANTILES&quot;}, &quot;series&quot;: {}, &quot;labels&quot;: {}, &quot;yAxis&quot;: {&quot;title&quot;: {&quot;text&quot;: &quot;mark&quot;}}, &quot;chart&quot;: {&quot;renderTo&quot;: &quot;container&quot;}, &quot;tooltip&quot;: {}, &quot;plotOptions&quot;: {}, &quot;credits&quot;: {&quot;enabled&quot;: false}, &quot;colors&quot;: {}, &quot;pane&quot;: {}, &quot;exporting&quot;: {}, &quot;drilldown&quot;: {}, &quot;navigation&quot;: {}, &quot;legend&quot;: {}}; var chart = new Highcharts.Chart(option); var data = [{&quot;data&quot;: [[&quot;A&quot;, 0.0], [&quot;B&quot;, 0.0], [&quot;C&quot;, 0.0], [&quot;D&quot;, 0.0]], &quot;type&quot;: &quot;column&quot;, &quot;name&quot;: &quot;min&quot;}, {&quot;data&quot;: [[&quot;A&quot;, 5.041250472936392], [&quot;B&quot;, 6.598975374869739], [&quot;C&quot;, 3.8960439024124507], [&quot;D&quot;, 6.339864576506606]], &quot;type&quot;: &quot;column&quot;, &quot;name&quot;: &quot;std&quot;}, {&quot;data&quot;: [[&quot;A&quot;, 7.7029911562525], [&quot;B&quot;, 11.152458549803697], [&quot;C&quot;, 7.313005847334782], [&quot;D&quot;, 7.675025101447173]], &quot;type&quot;: &quot;column&quot;, &quot;name&quot;: &quot;mean&quot;}, {&quot;data&quot;: [[&quot;A&quot;, 4.0], [&quot;B&quot;, 6.0], [&quot;C&quot;, 4.0], [&quot;D&quot;, 2.5]], &quot;type&quot;: &quot;column&quot;, &quot;name&quot;: &quot;quantile 25%&quot;}, {&quot;data&quot;: [[&quot;A&quot;, 7.5], [&quot;B&quot;, 11.5], [&quot;C&quot;, 8.5], [&quot;D&quot;, 6.0]], &quot;type&quot;: &quot;column&quot;, &quot;name&quot;: &quot;median&quot;}, {&quot;data&quot;: [[&quot;A&quot;, 10.0], [&quot;B&quot;, 17.0], [&quot;C&quot;, 10.0], [&quot;D&quot;, 11.5]], &quot;type&quot;: &quot;column&quot;, &quot;name&quot;: &quot;quantile 75%&quot;}, {&quot;data&quot;: [[&quot;A&quot;, 22.0], [&quot;B&quot;, 20.0], [&quot;C&quot;, 14.0], [&quot;D&quot;, 24.0]], &quot;type&quot;: &quot;column&quot;, &quot;name&quot;: &quot;max&quot;}]; var dataLen = data.length; for (var ix = 0; ix &lt; dataLen; ix++) { chart.addSeries(data[ix]); } }); &lt;/script&gt; &lt;/body&gt; &lt;/html&gt;\" height=520 width=820></iframe>"
      ],
      "text/plain": [
       "<highcharts.highcharts.highcharts.Highchart at 0x7fd8bd2acb50>"
      ]
     },
     "execution_count": 92,
     "metadata": {},
     "output_type": "execute_result"
    }
   ],
   "source": [
    "h = Highchart()\n",
    "h.set_dict_options({\n",
    "    'title': {'text' : 'problems MEAN - STD - QUANTILES'}, \n",
    "    'xAxis': {'categories': ['A', 'B', 'C', 'D']}, \n",
    "    'yAxis': {'title': {'text': 'mark'}}\n",
    "})\n",
    "h.add_data_set(zip(min_.index, min_.values), 'column', 'min')\n",
    "h.add_data_set(zip(std.index, std.values), 'column', 'std')\n",
    "h.add_data_set(zip(mean.index, mean.values), 'column', 'mean')\n",
    "h.add_data_set(zip(q25.index, q25.values), 'column', 'quantile 25%')\n",
    "h.add_data_set(zip(median.index, median.values), 'column', 'median')\n",
    "h.add_data_set(zip(q75.index, q75.values), 'column', 'quantile 75%')\n",
    "h.add_data_set(zip(max_.index, max_.values), 'column', 'max')\n",
    "h"
   ]
  },
  {
   "cell_type": "code",
   "execution_count": 99,
   "metadata": {},
   "outputs": [
    {
     "data": {
      "text/html": [
       "<iframe style=\"border:0;outline:none;overflow:hidden\" srcdoc=\"&lt;!DOCTYPE html&gt; &lt;html lang=&quot;en&quot;&gt; &lt;head&gt; &lt;meta charset=&quot;utf-8&quot; /&gt; &lt;link href=&quot;https://www.highcharts.com/highslide/highslide.css&quot; rel=&quot;stylesheet&quot; /&gt; &lt;script type=&quot;text/javascript&quot; src=&quot;https://ajax.googleapis.com/ajax/libs/jquery/1.9.1/jquery.min.js&quot;&gt;&lt;/script&gt; &lt;script type=&quot;text/javascript&quot; src=&quot;https://code.highcharts.com/highcharts.js&quot;&gt;&lt;/script&gt; &lt;script type=&quot;text/javascript&quot; src=&quot;https://code.highcharts.com/highcharts-more.js&quot;&gt;&lt;/script&gt; &lt;script type=&quot;text/javascript&quot; src=&quot;https://code.highcharts.com/modules/heatmap.js&quot;&gt;&lt;/script&gt; &lt;script type=&quot;text/javascript&quot; src=&quot;https://code.highcharts.com/modules/exporting.js&quot;&gt;&lt;/script&gt; &lt;/head&gt; &lt;body style=&quot;margin:0;padding:0&quot;&gt; &lt;div id=&quot;container&quot; style=&quot;&quot;&gt;Loading....&lt;/div&gt; &lt;script&gt; $(function(){ Highcharts.setOptions({&quot;lang&quot;: {}, &quot;global&quot;: {}}); var option = {&quot;loading&quot;: {}, &quot;subtitle&quot;: {}, &quot;xAxis&quot;: {&quot;categories&quot;: [&quot;A&quot;, &quot;B&quot;, &quot;C&quot;, &quot;D&quot;]}, &quot;title&quot;: {&quot;text&quot;: &quot;problems boxplot&quot;}, &quot;series&quot;: {}, &quot;labels&quot;: {}, &quot;yAxis&quot;: {&quot;title&quot;: {&quot;text&quot;: &quot;mark&quot;}}, &quot;chart&quot;: {&quot;renderTo&quot;: &quot;container&quot;}, &quot;tooltip&quot;: {}, &quot;plotOptions&quot;: {}, &quot;credits&quot;: {&quot;enabled&quot;: false}, &quot;colors&quot;: {}, &quot;pane&quot;: {}, &quot;exporting&quot;: {}, &quot;drilldown&quot;: {}, &quot;navigation&quot;: {}, &quot;legend&quot;: {&quot;enabled&quot;: false}}; var chart = new Highcharts.Chart(option); var data = [{&quot;name&quot;: &quot;Series 1&quot;, &quot;color&quot;: &quot;black&quot;, &quot;type&quot;: &quot;boxplot&quot;, &quot;data&quot;: [[0.0, 4.0, 7.5, 10.0, 22.0], [0.0, 6.0, 11.5, 17.0, 20.0], [0.0, 4.0, 8.5, 10.0, 14.0], [0.0, 2.5, 6.0, 11.5, 24.0]]}]; var dataLen = data.length; for (var ix = 0; ix &lt; dataLen; ix++) { chart.addSeries(data[ix]); } }); &lt;/script&gt; &lt;/body&gt; &lt;/html&gt;\" height=520 width=820></iframe>"
      ],
      "text/plain": [
       "<highcharts.highcharts.highcharts.Highchart at 0x7fd8bd292710>"
      ]
     },
     "execution_count": 99,
     "metadata": {},
     "output_type": "execute_result"
    }
   ],
   "source": [
    "h = Highchart()\n",
    "h.set_dict_options({\n",
    "    'title': {'text' : 'problems boxplot'}, \n",
    "    'xAxis': {'categories': ['A', 'B', 'C', 'D']}, \n",
    "    'yAxis': {'title': {'text': 'mark'}}, \n",
    "    'legend': {'enabled': False}\n",
    "})\n",
    "h.add_data_set(zip(min_, q25, median, q75, max_), 'boxplot', color='black')\n",
    "h"
   ]
  },
  {
   "cell_type": "code",
   "execution_count": 100,
   "metadata": {},
   "outputs": [
    {
     "data": {
      "text/html": [
       "<iframe style=\"border:0;outline:none;overflow:hidden\" srcdoc=\"&lt;!DOCTYPE html&gt; &lt;html lang=&quot;en&quot;&gt; &lt;head&gt; &lt;meta charset=&quot;utf-8&quot; /&gt; &lt;link href=&quot;https://www.highcharts.com/highslide/highslide.css&quot; rel=&quot;stylesheet&quot; /&gt; &lt;script type=&quot;text/javascript&quot; src=&quot;https://ajax.googleapis.com/ajax/libs/jquery/1.9.1/jquery.min.js&quot;&gt;&lt;/script&gt; &lt;script type=&quot;text/javascript&quot; src=&quot;https://code.highcharts.com/highcharts.js&quot;&gt;&lt;/script&gt; &lt;script type=&quot;text/javascript&quot; src=&quot;https://code.highcharts.com/highcharts-more.js&quot;&gt;&lt;/script&gt; &lt;script type=&quot;text/javascript&quot; src=&quot;https://code.highcharts.com/modules/heatmap.js&quot;&gt;&lt;/script&gt; &lt;script type=&quot;text/javascript&quot; src=&quot;https://code.highcharts.com/modules/exporting.js&quot;&gt;&lt;/script&gt; &lt;/head&gt; &lt;body style=&quot;margin:0;padding:0&quot;&gt; &lt;div id=&quot;container&quot; style=&quot;&quot;&gt;Loading....&lt;/div&gt; &lt;script&gt; $(function(){ Highcharts.setOptions({&quot;lang&quot;: {}, &quot;global&quot;: {}}); var option = {&quot;loading&quot;: {}, &quot;subtitle&quot;: {}, &quot;xAxis&quot;: {&quot;categories&quot;: [&quot;sum&quot;, &quot;sum&quot;]}, &quot;title&quot;: {&quot;text&quot;: &quot;total mark&quot;}, &quot;series&quot;: {}, &quot;labels&quot;: {}, &quot;yAxis&quot;: {&quot;title&quot;: {&quot;text&quot;: &quot;mark&quot;}}, &quot;chart&quot;: {&quot;renderTo&quot;: &quot;container&quot;}, &quot;tooltip&quot;: {}, &quot;plotOptions&quot;: {}, &quot;credits&quot;: {&quot;enabled&quot;: false}, &quot;colors&quot;: {}, &quot;pane&quot;: {}, &quot;exporting&quot;: {}, &quot;drilldown&quot;: {}, &quot;navigation&quot;: {}, &quot;legend&quot;: {}}; var chart = new Highcharts.Chart(option); var data = [{&quot;data&quot;: [[0, 0, 0, 0, 0], [&quot;sum&quot;, 0.0]], &quot;type&quot;: &quot;column&quot;, &quot;name&quot;: &quot;min&quot;}, {&quot;data&quot;: [[0, 0, 0, 0, 0], [&quot;sum&quot;, 16.8226825627505]], &quot;type&quot;: &quot;column&quot;, &quot;name&quot;: &quot;std&quot;}, {&quot;data&quot;: [[0, 0, 0, 0, 0], [&quot;sum&quot;, 33.83797622039489]], &quot;type&quot;: &quot;column&quot;, &quot;name&quot;: &quot;mean&quot;}, {&quot;data&quot;: [[0, 0, 0, 0, 0], [&quot;sum&quot;, 21.5]], &quot;type&quot;: &quot;column&quot;, &quot;name&quot;: &quot;quantile 25%&quot;}, {&quot;data&quot;: [[0, 0, 0, 0, 0], [&quot;sum&quot;, 32.5]], &quot;type&quot;: &quot;column&quot;, &quot;name&quot;: &quot;median&quot;}, {&quot;data&quot;: [[0, 0, 0, 0, 0], [&quot;sum&quot;, 45.5]], &quot;type&quot;: &quot;column&quot;, &quot;name&quot;: &quot;quantile 75%&quot;}, {&quot;data&quot;: [[0, 0, 0, 0, 0], [&quot;sum&quot;, 80.0]], &quot;type&quot;: &quot;column&quot;, &quot;name&quot;: &quot;max&quot;}, {&quot;name&quot;: &quot;box plot&quot;, &quot;color&quot;: &quot;black&quot;, &quot;type&quot;: &quot;boxplot&quot;, &quot;data&quot;: [[0, 0, 0, 0], [0.0, 21.5, 32.5, 45.5, 80.0]]}]; var dataLen = data.length; for (var ix = 0; ix &lt; dataLen; ix++) { chart.addSeries(data[ix]); } }); &lt;/script&gt; &lt;/body&gt; &lt;/html&gt;\" height=520 width=820></iframe>"
      ],
      "text/plain": [
       "<highcharts.highcharts.highcharts.Highchart at 0x7fd8bd5b0390>"
      ]
     },
     "execution_count": 100,
     "metadata": {},
     "output_type": "execute_result"
    }
   ],
   "source": [
    "temp = marks[['sum']]\n",
    "std = temp.std()\n",
    "mean = temp.mean()\n",
    "max_ = temp.max()\n",
    "min_ = temp.min()\n",
    "median = temp.quantile()\n",
    "q25 = temp.quantile(q=0.25)\n",
    "q75 = temp.quantile(q=0.75)\n",
    "\n",
    "h = Highchart()\n",
    "h.set_dict_options({\n",
    "    'title': {'text' : 'total mark analysis'}, \n",
    "    'xAxis': {'categories': ['sum', 'sum']}, \n",
    "    'yAxis': {'title': {'text': 'mark'}}, \n",
    "#     'legend': {'enabled': False}\n",
    "})\n",
    "h.add_data_set([(0, 0, 0, 0, 0)] + zip(min_.index, min_.values), 'column', 'min')\n",
    "h.add_data_set([(0, 0, 0, 0, 0)] + zip(std.index, std.values), 'column', 'std')\n",
    "h.add_data_set([(0, 0, 0, 0, 0)] + zip(mean.index, mean.values), 'column', 'mean')\n",
    "h.add_data_set([(0, 0, 0, 0, 0)] + zip(q25.index, q25.values), 'column', 'quantile 25%')\n",
    "h.add_data_set([(0, 0, 0, 0, 0)] + zip(median.index, median.values), 'column', 'median')\n",
    "h.add_data_set([(0, 0, 0, 0, 0)] + zip(q75.index, q75.values), 'column', 'quantile 75%')\n",
    "h.add_data_set([(0, 0, 0, 0, 0)] + zip(max_.index, max_.values), 'column', 'max')\n",
    "h.add_data_set([(0, 0, 0, 0, )] + zip(min_, q25, median, q75, max_), 'boxplot', name='box plot', color='black')\n",
    "h"
   ]
  }
 ],
 "metadata": {
  "kernelspec": {
   "display_name": "Python 3",
   "language": "python",
   "name": "python3"
  },
  "language_info": {
   "codemirror_mode": {
    "name": "ipython",
    "version": 2
   },
   "file_extension": ".py",
   "mimetype": "text/x-python",
   "name": "python",
   "nbconvert_exporter": "python",
   "pygments_lexer": "ipython2",
   "version": "2.7.12"
  }
 },
 "nbformat": 4,
 "nbformat_minor": 2
}
